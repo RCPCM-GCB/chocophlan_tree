{
 "cells": [
  {
   "cell_type": "code",
   "execution_count": 228,
   "metadata": {},
   "outputs": [],
   "source": [
    "import pandas as pd\n",
    "import pickle, bz2\n",
    "import wget\n",
    "import itertools, os, shutil, glob\n",
    "\n",
    "from multiprocessing.pool import ThreadPool\n",
    "pd.options.display.max_colwidth = 1000"
   ]
  },
  {
   "cell_type": "markdown",
   "metadata": {},
   "source": [
    "## Load pkl file from CHOCOPhlAn database, read taxonomy and get GenBank (GCA) ids.\n",
    "Something is wrong with `t__Microcystis_aeruginosa_Micro_LB_01|t__PRJNA18127`"
   ]
  },
  {
   "cell_type": "code",
   "execution_count": 218,
   "metadata": {},
   "outputs": [
    {
     "data": {
      "text/plain": [
       "dict_keys(['markers', 'taxonomy', 'merged_taxon'])"
      ]
     },
     "execution_count": 218,
     "metadata": {},
     "output_type": "execute_result"
    }
   ],
   "source": [
    "# Load pkl file form CHOCOPhlAn database\n",
    "mpa_pkl_loc = '/data11/bio/databases/metaphlan2/mpa_v30_CHOCOPhlAn_201901/mpa_v30_CHOCOPhlAn_201901.pkl'\n",
    "\n",
    "with open(mpa_pkl_loc, 'rb' ) as a:\n",
    "    mpa_pkl = pickle.loads( bz2.decompress( a.read() ) )\n",
    "    \n",
    "mpa_pkl.keys()"
   ]
  },
  {
   "cell_type": "code",
   "execution_count": 219,
   "metadata": {},
   "outputs": [],
   "source": [
    "wrong = [\n",
    "    'k__Bacteria|p__Proteobacteria|c__Alphaproteobacteria|o__Rickettsiales|f__Rickettsiaceae|g__Rickettsia|s__Rickettsia_parkeri|t__GCA_000007025',\n",
    "    'k__Bacteria|p__Proteobacteria|c__Gammaproteobacteria|o__Thiotrichales|f__Francisellaceae|g__Francisella|s__Francisella_hispaniensis|t__GCA_000008985',\n",
    "    'k__Bacteria|p__Proteobacteria|c__Alphaproteobacteria|o__Rickettsiales|f__Anaplasmataceae|g__Ehrlichia|s__Ehrlichia_muris|t__GCA_000013145',\n",
    "    'k__Bacteria|p__Proteobacteria|c__Alphaproteobacteria|o__Rickettsiales|f__Rickettsiaceae|g__Rickettsia|s__Rickettsia_rhipicephali|t__GCA_000014345',\n",
    "    'k__Bacteria|p__Proteobacteria|c__Gammaproteobacteria|o__Thiotrichales|f__Francisellaceae|g__Francisella|s__Francisella_hispaniensis|t__GCA_000014645',\n",
    "    'k__Bacteria|p__Proteobacteria|c__Alphaproteobacteria|o__Rickettsiales|f__Rickettsiaceae|g__Rickettsia|s__Rickettsia_rhipicephali|t__GCA_000016625',\n",
    "    'k__Bacteria|p__Proteobacteria|c__Alphaproteobacteria|o__Rickettsiales|f__Rickettsiaceae|g__Rickettsia|s__Rickettsia_amblyommatis|t__GCA_000016625',\n",
    "    'k__Bacteria|p__Proteobacteria|c__Alphaproteobacteria|o__Rickettsiales|f__Rickettsiaceae|g__Rickettsia|s__Rickettsia_parkeri|t__GCA_000017445',\n",
    "    'k__Bacteria|p__Proteobacteria|c__Gammaproteobacteria|o__Thiotrichales|f__Francisellaceae|g__Francisella|s__Francisella_noatunensis|t__GCA_000019285',\n",
    "    'k__Bacteria|p__Proteobacteria|c__Gammaproteobacteria|o__Thiotrichales|f__Francisellaceae|g__Francisella|s__Francisella_hispaniensis|t__GCA_000019285',\n",
    "    'k__Bacteria|p__Proteobacteria|c__Alphaproteobacteria|o__Rickettsiales|f__Rickettsiaceae|g__Rickettsia|s__Rickettsia_parkeri|t__GCA_000021525',\n",
    "    'k__Bacteria|p__Proteobacteria|c__Alphaproteobacteria|o__Rickettsiales|f__Rickettsiaceae|g__Rickettsia|s__Rickettsia_parkeri|t__GCA_000023005',\n",
    "    'k__Bacteria|p__Proteobacteria|c__Alphaproteobacteria|o__Rickettsiales|f__Rickettsiaceae|g__Rickettsia|s__Rickettsia_amblyommatis|t__GCA_000023005',\n",
    "    'k__Bacteria|p__Proteobacteria|c__Alphaproteobacteria|o__Rickettsiales|f__Rickettsiaceae|g__Rickettsia|s__Rickettsia_parkeri|t__GCA_000166935',\n",
    "    'k__Bacteria|p__Proteobacteria|c__Alphaproteobacteria|o__Rickettsiales|f__Rickettsiaceae|g__Rickettsia|s__Rickettsia_raoultii|t__GCA_000166935',\n",
    "    'k__Bacteria|p__Proteobacteria|c__Gammaproteobacteria|o__Thiotrichales|f__Francisellaceae|g__Francisella|s__Francisella_hispaniensis|t__GCA_000195535',\n",
    "    'k__Bacteria|p__Planctomycetes|c__Planctomycetia|o__Planctomycetales|f__Planctomycetaceae|g__Rhodopirellula|s__Rhodopirellula_europaea|t__GCA_000196115',\n",
    "    'k__Bacteria|p__Proteobacteria|c__Gammaproteobacteria|o__Thiotrichales|f__Francisellaceae|g__Francisella|s__Francisella_noatunensis|t__GCA_000219045', #?\n",
    "    'k__Bacteria|p__Proteobacteria|c__Alphaproteobacteria|o__Rickettsiales|f__Rickettsiaceae|g__Rickettsia|s__Rickettsia_raoultii|t__GCA_000237845',\n",
    "    'k__Bacteria|p__Planctomycetes|c__Planctomycetia|o__Planctomycetales|f__Planctomycetaceae|g__Rhodopirellula|s__Rhodopirellula_europaea|t__GCA_001027925',\n",
    "    'k__Bacteria|p__Actinobacteria|c__Coriobacteriia|o__Coriobacteriales|f__Atopobiaceae|g__Atopobium|s__Atopobium_vaginae|t__GCA_001398375',\n",
    "    'k__Bacteria|p__Firmicutes|c__Bacilli|o__Lactobacillales|f__Lactobacillaceae|g__Lactobacillus|s__Lactobacillus_rogosae|t__GCA_001405835',\n",
    "    'k__Bacteria|p__Actinobacteria|c__Actinobacteria|o__Micrococcales|f__Intrasporangiaceae|g__Janibacter|s__Janibacter_terrae|t__GCA_001889125',\n",
    "    'k__Bacteria|p__Tenericutes|c__Mollicutes|o__Mycoplasmatales|f__Mycoplasmataceae|g__Mycoplasma|s__Mycoplasma_wenyonii|t__GCA_002705755',\n",
    "    'k__Bacteria|p__Planctomycetes|c__Planctomycetia|o__Planctomycetales|f__Planctomycetaceae|g__Gimesia|s__Gimesia_maris|t__GCA_002706765',\n",
    "    'k__Bacteria|p__Spirochaetes|c__Spirochaetia|o__Spirochaetia_unclassified|f__Leptospiraceae|g__Leptospira|s__Leptospira_hartskeerlii|t__GCA_002811475',\n",
    "]"
   ]
  },
  {
   "cell_type": "code",
   "execution_count": 220,
   "metadata": {},
   "outputs": [
    {
     "data": {
      "text/plain": [
       "(25458, 2)"
      ]
     },
     "execution_count": 220,
     "metadata": {},
     "output_type": "execute_result"
    }
   ],
   "source": [
    "# Get taxons\n",
    "taxons = list(set(mpa_pkl['taxonomy'].keys()))\n",
    "\n",
    "organisms = [{\"full_tax_name\": t, 'GCA_acc': t.split('|t__')[-1]} for t in taxons]\n",
    "organisms = pd.DataFrame(organisms).set_index('GCA_acc')\n",
    "\n",
    "# Select only bacteria and archaea\n",
    "organisms = organisms.loc[(organisms.full_tax_name.str.contains('k__Archaea') | organisms.full_tax_name.str.contains('k__Bacteria'))]\n",
    "\n",
    "organisms = organisms.loc[~organisms['full_tax_name'].isin(wrong)]\n",
    "organisms['s__'] = organisms['full_tax_name'].str.split('|').str[-2]\n",
    "gca_accs_set = set(organisms.index)\n",
    "\n",
    "organisms.shape"
   ]
  },
  {
   "cell_type": "code",
   "execution_count": 77,
   "metadata": {},
   "outputs": [
    {
     "data": {
      "text/plain": [
       "{'ext': [],\n",
       " 'score': 0.0,\n",
       " 'clade': 's__Sulfolobus_spindle_shaped_virus_2',\n",
       " 'len': 147,\n",
       " 'taxon': 'k__Viruses|p__Viruses_unclassified|c__Viruses_unclassified|o__Viruses_unclassified|f__Fuselloviridae|g__Alphafusellovirus|s__Sulfolobus_spindle_shaped_virus_2'}"
      ]
     },
     "execution_count": 77,
     "metadata": {},
     "output_type": "execute_result"
    }
   ],
   "source": [
    "# markers = list(mpa_pkl['markers'].keys())\n",
    "# markers[0]\n",
    "# mpa_pkl['markers']['244590__GeneID:2658371']"
   ]
  },
  {
   "cell_type": "code",
   "execution_count": 93,
   "metadata": {},
   "outputs": [
    {
     "data": {
      "text/plain": [
       "{'ext': [],\n",
       " 'score': 0.0,\n",
       " 'clade': 's__Sulfolobus_spindle_shaped_virus_2',\n",
       " 'len': 147,\n",
       " 'taxon': 'k__Viruses|p__Viruses_unclassified|c__Viruses_unclassified|o__Viruses_unclassified|f__Fuselloviridae|g__Alphafusellovirus|s__Sulfolobus_spindle_shaped_virus_2'}"
      ]
     },
     "execution_count": 93,
     "metadata": {},
     "output_type": "execute_result"
    }
   ],
   "source": [
    "# clades = []\n",
    "\n",
    "# for k, v in mpa_pkl['markers'].items():\n",
    "#     clades.append(v['clade'])\n",
    "    \n",
    "# clades = list(set(clades))\n",
    "# mpa_pkl['markers']['244590__GeneID:2658371']"
   ]
  },
  {
   "cell_type": "code",
   "execution_count": 94,
   "metadata": {},
   "outputs": [
    {
     "name": "stdout",
     "output_type": "stream",
     "text": [
      "('2|544448|31969|2085|2092|2093|65123', 3625508)\n"
     ]
    }
   ],
   "source": [
    "taxa = 'k__Bacteria|p__Tenericutes|c__Mollicutes|o__Mycoplasmatales|f__Mycoplasmataceae|g__Mycoplasma|s__Mycoplasma_wenyonii|t__GCA_002705755'\n",
    "print(mpa_pkl['taxonomy'][taxa])\n",
    "clade = 's__Mycoplasma_wenyonii'\n",
    "# for k, v in mpa_pkl['markers'].items():\n",
    "#     if v['clade'] == clade:\n",
    "#         print(k, v)"
   ]
  },
  {
   "cell_type": "code",
   "execution_count": 84,
   "metadata": {},
   "outputs": [
    {
     "name": "stdout",
     "output_type": "stream",
     "text": [
      "('2|201174|1760|85006|85023|33882|57043', 3625508)\n"
     ]
    }
   ],
   "source": [
    "taxa = 'k__Bacteria|p__Actinobacteria|c__Actinobacteria|o__Micrococcales|f__Microbacteriaceae|g__Microbacterium|s__Microbacterium_esteraromaticum|t__GCA_002705755'\n",
    "print(mpa_pkl['taxonomy'][taxa])\n",
    "\n",
    "taxa = 'k__Bacteria|p__Actinobacteria|c__Actinobacteria|o__Micrococcales|f__Microbacteriaceae|g__Microbacterium|s__Microbacterium_esteraromaticum'\n",
    "clade = 's__Microbacterium_esteraromaticum'\n",
    "for k, v in mpa_pkl['markers'].items():\n",
    "    if 'Microbacterium_esteraromaticum' in v['taxon']:\n",
    "        print(k, v)"
   ]
  },
  {
   "cell_type": "markdown",
   "metadata": {},
   "source": [
    "# PROBLEMS WITH DUPLICATED GCA_ACCs!!"
   ]
  },
  {
   "cell_type": "code",
   "execution_count": 221,
   "metadata": {},
   "outputs": [
    {
     "data": {
      "text/html": [
       "<div>\n",
       "<style scoped>\n",
       "    .dataframe tbody tr th:only-of-type {\n",
       "        vertical-align: middle;\n",
       "    }\n",
       "\n",
       "    .dataframe tbody tr th {\n",
       "        vertical-align: top;\n",
       "    }\n",
       "\n",
       "    .dataframe thead th {\n",
       "        text-align: right;\n",
       "    }\n",
       "</style>\n",
       "<table border=\"1\" class=\"dataframe\">\n",
       "  <thead>\n",
       "    <tr style=\"text-align: right;\">\n",
       "      <th></th>\n",
       "      <th>full_tax_name</th>\n",
       "      <th>s__</th>\n",
       "      <th>dup</th>\n",
       "    </tr>\n",
       "    <tr>\n",
       "      <th>GCA_acc</th>\n",
       "      <th></th>\n",
       "      <th></th>\n",
       "      <th></th>\n",
       "    </tr>\n",
       "  </thead>\n",
       "  <tbody>\n",
       "  </tbody>\n",
       "</table>\n",
       "</div>"
      ],
      "text/plain": [
       "Empty DataFrame\n",
       "Columns: [full_tax_name, s__, dup]\n",
       "Index: []"
      ]
     },
     "execution_count": 221,
     "metadata": {},
     "output_type": "execute_result"
    }
   ],
   "source": [
    "organisms['dup'] = organisms.index.duplicated(keep=False)\n",
    "organisms.loc[organisms['dup'] == True].sort_index()"
   ]
  },
  {
   "cell_type": "markdown",
   "metadata": {},
   "source": [
    "## Download bacteria and archaea assembly summary from GenBank FTP"
   ]
  },
  {
   "cell_type": "code",
   "execution_count": 50,
   "metadata": {},
   "outputs": [
    {
     "name": "stdout",
     "output_type": "stream",
     "text": [
      "--2020-06-14 19:46:44--  ftp://ftp.ncbi.nih.gov/genomes/genbank/bacteria/assembly_summary.txt\n",
      "           => ‘./bacteria_assembly_summary.txt’\n",
      "Resolving ftp.ncbi.nih.gov (ftp.ncbi.nih.gov)... 130.14.250.7, 2607:f220:41e:250::13\n",
      "Connecting to ftp.ncbi.nih.gov (ftp.ncbi.nih.gov)|130.14.250.7|:21... connected.\n",
      "Logging in as anonymous ... Logged in!\n",
      "==> SYST ... done.    ==> PWD ... done.\n",
      "==> TYPE I ... done.  ==> CWD (1) /genomes/genbank/bacteria ... done.\n",
      "==> SIZE assembly_summary.txt ... 208538454\n",
      "==> PASV ... done.    ==> RETR assembly_summary.txt ... done.\n",
      "Length: 208538454 (199M) (unauthoritative)\n",
      "\n",
      "assembly_summary.tx 100%[===================>] 198.88M  1017KB/s    in 83s     \n",
      "\n",
      "2020-06-14 19:48:09 (2.40 MB/s) - ‘./bacteria_assembly_summary.txt’ saved [208538454]\n",
      "\n",
      "--2020-06-14 19:48:09--  ftp://ftp.ncbi.nih.gov/genomes/genbank/archaea/assembly_summary.txt\n",
      "           => ‘./archaea_assembly_summary.txt’\n",
      "Resolving ftp.ncbi.nih.gov (ftp.ncbi.nih.gov)... 130.14.250.13, 2607:f220:41e:250::7\n",
      "Connecting to ftp.ncbi.nih.gov (ftp.ncbi.nih.gov)|130.14.250.13|:21... connected.\n",
      "Logging in as anonymous ... Logged in!\n",
      "==> SYST ... done.    ==> PWD ... done.\n",
      "==> TYPE I ... done.  ==> CWD (1) /genomes/genbank/archaea ... done.\n",
      "==> SIZE assembly_summary.txt ... 1661772\n",
      "==> PASV ... done.    ==> RETR assembly_summary.txt ... done.\n",
      "Length: 1661772 (1.6M) (unauthoritative)\n",
      "\n",
      "assembly_summary.tx 100%[===================>]   1.58M  1.04MB/s    in 1.5s    \n",
      "\n",
      "2020-06-14 19:48:13 (1.04 MB/s) - ‘./archaea_assembly_summary.txt’ saved [1661772]\n",
      "\n"
     ]
    }
   ],
   "source": [
    "!wget ftp://ftp.ncbi.nih.gov/genomes/genbank/bacteria/assembly_summary.txt -O ./bacteria_assembly_summary.txt\n",
    "!wget ftp://ftp.ncbi.nih.gov/genomes/genbank/archaea/assembly_summary.txt -O ./archaea_assembly_summary.txt"
   ]
  },
  {
   "cell_type": "code",
   "execution_count": 217,
   "metadata": {},
   "outputs": [],
   "source": [
    "# Load bacteria summary table\n",
    "bacteria_assembly_summary = pd.read_csv('./bacteria_assembly_summary.txt', sep = '\\t', low_memory=False, header=1, index_col=0)\n",
    "bacteria_assembly_summary.index = bacteria_assembly_summary.index.str.split('.').str[0]\n",
    "\n",
    "# Load archaeal summary table\n",
    "archaea_assembly_summary = pd.read_csv('./archaea_assembly_summary.txt', sep = '\\t', low_memory=False, header=1, index_col=0)\n",
    "archaea_assembly_summary.index = archaea_assembly_summary.index.str.split('.').str[0]"
   ]
  },
  {
   "cell_type": "code",
   "execution_count": 222,
   "metadata": {},
   "outputs": [],
   "source": [
    "bacteria_archea_summary = pd.concat([bacteria_assembly_summary, archaea_assembly_summary])\n",
    "accs_in_genbank = set(bacteria_archea_summary.index)\n",
    "# Get intersection of GCA accesions in mpa_pkl and genbank aseembly summary files\n",
    "gca_accs_intersection = gca_accs_set.intersection(accs_in_genbank)\n",
    "# Get accessions that are notpresent in GenBank\n",
    "no_accs_in_genbank = gca_accs_set - gca_accs_intersection"
   ]
  },
  {
   "cell_type": "code",
   "execution_count": 223,
   "metadata": {},
   "outputs": [],
   "source": [
    "assemblies_for_download = bacteria_archea_summary.loc[gca_accs_intersection]\n",
    "# assemblies_for_download = assemblies_for_download.loc[~assemblies_for_download.ftp_path.isna()]\n",
    "organisms_for_download = organisms.loc[gca_accs_intersection]\n",
    "\n",
    "assemblies_for_download['ACC'] = assemblies_for_download.index\n",
    "assemblies_for_download_dict = assemblies_for_download.to_dict(orient='records')"
   ]
  },
  {
   "cell_type": "code",
   "execution_count": 224,
   "metadata": {},
   "outputs": [
    {
     "data": {
      "text/plain": [
       "(25397, 22)"
      ]
     },
     "execution_count": 224,
     "metadata": {},
     "output_type": "execute_result"
    }
   ],
   "source": [
    "assemblies_for_download.shape"
   ]
  },
  {
   "cell_type": "code",
   "execution_count": 292,
   "metadata": {},
   "outputs": [],
   "source": [
    "dwn_dir = '/data11/bio/databases/metaphlan2/mp_genomes'\n",
    "# https://markhneedham.com/blog/2018/07/15/python-parallel-download-files-requests/\n",
    "\n",
    "def fetch_url(d):\n",
    "    acc = d['ACC']\n",
    "    ftp_path = d['ftp_path'] + '/' + d['ftp_path'].split('/')[-1] + '_genomic.fna.gz'\n",
    "    \n",
    "    save_dir = os.path.join(dwn_dir, acc)\n",
    "    os.makedirs(save_dir, exist_ok=True)\n",
    "    \n",
    "    try:\n",
    "        file_loc = os.path.join(save_dir,  d['ftp_path'].split('/')[-1] + '_genomic.fna.gz')\n",
    "        wget.download(ftp_path, out=file_loc)\n",
    "        print(file_loc, os.path.isfile(file_loc))\n",
    "        return {'acc': acc, 'status': 'ok'}\n",
    "    except:\n",
    "        print(acc, 'fail')\n",
    "        return {'acc': acc, 'status': 'error'}    "
   ]
  },
  {
   "cell_type": "code",
   "execution_count": null,
   "metadata": {},
   "outputs": [],
   "source": [
    "results = ThreadPool(35).imap_unordered(fetch_url, assemblies_for_download_dict)\n",
    "\n",
    "for path in results:\n",
    "    if path['status'] != 'ok':\n",
    "        print(path)"
   ]
  },
  {
   "cell_type": "markdown",
   "metadata": {},
   "source": [
    "## Select good genomes (one per species)"
   ]
  },
  {
   "cell_type": "code",
   "execution_count": 317,
   "metadata": {},
   "outputs": [
    {
     "data": {
      "text/plain": [
       "10360"
      ]
     },
     "execution_count": 317,
     "metadata": {},
     "output_type": "execute_result"
    }
   ],
   "source": [
    "merged = assemblies_for_download.merge(organisms_for_download, left_index=True, right_index=True,)\n",
    "len(merged['s__'].unique())\n",
    "# merged.shape"
   ]
  },
  {
   "cell_type": "code",
   "execution_count": 183,
   "metadata": {},
   "outputs": [],
   "source": [
    "gcas_with_dups = [\n",
    " 'GCA_000007025',\n",
    " 'GCA_000008985',\n",
    " 'GCA_000013145',\n",
    " 'GCA_000014345',\n",
    " 'GCA_000014645',\n",
    " 'GCA_000016625',\n",
    " 'GCA_000017445',\n",
    " 'GCA_000019285',\n",
    " 'GCA_000021525',\n",
    " 'GCA_000023005',\n",
    " 'GCA_000166935',\n",
    " 'GCA_000195535',\n",
    " 'GCA_000196115',\n",
    " 'GCA_000219045',\n",
    " 'GCA_000237845',\n",
    " 'GCA_001027925',\n",
    " 'GCA_001398375',\n",
    " 'GCA_001405835',\n",
    " 'GCA_001889125',\n",
    " 'GCA_002705755',\n",
    " 'GCA_002706765',\n",
    " 'GCA_002811475'\n",
    "]"
   ]
  },
  {
   "cell_type": "code",
   "execution_count": 321,
   "metadata": {},
   "outputs": [
    {
     "data": {
      "text/plain": [
       "(25375, 25)"
      ]
     },
     "execution_count": 321,
     "metadata": {},
     "output_type": "execute_result"
    }
   ],
   "source": [
    "merged.loc[~merged.index.isin(gcas_with_dups)].shape"
   ]
  },
  {
   "cell_type": "code",
   "execution_count": 322,
   "metadata": {},
   "outputs": [
    {
     "data": {
      "text/html": [
       "<div>\n",
       "<style scoped>\n",
       "    .dataframe tbody tr th:only-of-type {\n",
       "        vertical-align: middle;\n",
       "    }\n",
       "\n",
       "    .dataframe tbody tr th {\n",
       "        vertical-align: top;\n",
       "    }\n",
       "\n",
       "    .dataframe thead th {\n",
       "        text-align: right;\n",
       "    }\n",
       "</style>\n",
       "<table border=\"1\" class=\"dataframe\">\n",
       "  <thead>\n",
       "    <tr style=\"text-align: right;\">\n",
       "      <th></th>\n",
       "      <th>taxid</th>\n",
       "      <th>species_taxid</th>\n",
       "      <th>full_tax_name</th>\n",
       "      <th>organism_name</th>\n",
       "      <th>s__</th>\n",
       "      <th>refseq_category</th>\n",
       "      <th>assembly_level</th>\n",
       "      <th>infraspecific_name</th>\n",
       "      <th>isolate</th>\n",
       "      <th>version_status</th>\n",
       "      <th>release_type</th>\n",
       "      <th>genome_rep</th>\n",
       "    </tr>\n",
       "  </thead>\n",
       "  <tbody>\n",
       "    <tr>\n",
       "      <th>GCA_000943515</th>\n",
       "      <td>31958</td>\n",
       "      <td>31958</td>\n",
       "      <td>k__Bacteria|p__Actinobacteria|c__Actinobacteria|o__Pseudonocardiales|f__Pseudonocardiaceae|g__Amycolatopsis|s__Amycolatopsis_orientalis|t__GCA_000943515</td>\n",
       "      <td>Amycolatopsis orientalis</td>\n",
       "      <td>s__Amycolatopsis_orientalis</td>\n",
       "      <td>representative genome</td>\n",
       "      <td>Complete Genome</td>\n",
       "      <td>strain=B-37</td>\n",
       "      <td>NaN</td>\n",
       "      <td>latest</td>\n",
       "      <td>Major</td>\n",
       "      <td>Full</td>\n",
       "    </tr>\n",
       "    <tr>\n",
       "      <th>GCA_000400635</th>\n",
       "      <td>129921</td>\n",
       "      <td>129921</td>\n",
       "      <td>k__Bacteria|p__Actinobacteria|c__Actinobacteria|o__Pseudonocardiales|f__Pseudonocardiaceae|g__Amycolatopsis|s__Amycolatopsis_orientalis|t__GCA_000400635</td>\n",
       "      <td>Amycolatopsis keratiniphila</td>\n",
       "      <td>s__Amycolatopsis_orientalis</td>\n",
       "      <td>representative genome</td>\n",
       "      <td>Complete Genome</td>\n",
       "      <td>strain=HCCB10007</td>\n",
       "      <td>NaN</td>\n",
       "      <td>latest</td>\n",
       "      <td>Major</td>\n",
       "      <td>Full</td>\n",
       "    </tr>\n",
       "    <tr>\n",
       "      <th>GCA_000008725</th>\n",
       "      <td>272561</td>\n",
       "      <td>813</td>\n",
       "      <td>k__Bacteria|p__Chlamydiae|c__Chlamydiia|o__Chlamydiales|f__Chlamydiaceae|g__Chlamydia|s__Chlamydia_trachomatis|t__GCA_000008725</td>\n",
       "      <td>Chlamydia trachomatis D/UW-3/CX</td>\n",
       "      <td>s__Chlamydia_trachomatis</td>\n",
       "      <td>reference genome</td>\n",
       "      <td>Complete Genome</td>\n",
       "      <td>strain=D/UW-3/CX</td>\n",
       "      <td>NaN</td>\n",
       "      <td>latest</td>\n",
       "      <td>Major</td>\n",
       "      <td>Full</td>\n",
       "    </tr>\n",
       "    <tr>\n",
       "      <th>GCA_000012125</th>\n",
       "      <td>315277</td>\n",
       "      <td>813</td>\n",
       "      <td>k__Bacteria|p__Chlamydiae|c__Chlamydiia|o__Chlamydiales|f__Chlamydiaceae|g__Chlamydia|s__Chlamydia_trachomatis|t__GCA_000012125</td>\n",
       "      <td>Chlamydia trachomatis A/HAR-13</td>\n",
       "      <td>s__Chlamydia_trachomatis</td>\n",
       "      <td>representative genome</td>\n",
       "      <td>Complete Genome</td>\n",
       "      <td>strain=A/HAR-13</td>\n",
       "      <td>NaN</td>\n",
       "      <td>latest</td>\n",
       "      <td>Major</td>\n",
       "      <td>Full</td>\n",
       "    </tr>\n",
       "    <tr>\n",
       "      <th>GCA_000093145</th>\n",
       "      <td>363952</td>\n",
       "      <td>363952</td>\n",
       "      <td>k__Bacteria|p__Proteobacteria|c__Betaproteobacteria|o__Burkholderiales|f__Comamonadaceae|g__Comamonas|s__Comamonas_testosteroni|t__GCA_000093145</td>\n",
       "      <td>Comamonas thiooxydans</td>\n",
       "      <td>s__Comamonas_testosteroni</td>\n",
       "      <td>representative genome</td>\n",
       "      <td>Complete Genome</td>\n",
       "      <td>strain=CNB-1 substr. CNB-2</td>\n",
       "      <td>NaN</td>\n",
       "      <td>latest</td>\n",
       "      <td>Major</td>\n",
       "      <td>Full</td>\n",
       "    </tr>\n",
       "    <tr>\n",
       "      <th>GCA_000739375</th>\n",
       "      <td>1392005</td>\n",
       "      <td>285</td>\n",
       "      <td>k__Bacteria|p__Proteobacteria|c__Betaproteobacteria|o__Burkholderiales|f__Comamonadaceae|g__Comamonas|s__Comamonas_testosteroni|t__GCA_000739375</td>\n",
       "      <td>Comamonas testosteroni TK102</td>\n",
       "      <td>s__Comamonas_testosteroni</td>\n",
       "      <td>representative genome</td>\n",
       "      <td>Complete Genome</td>\n",
       "      <td>strain=TK102</td>\n",
       "      <td>NaN</td>\n",
       "      <td>latest</td>\n",
       "      <td>Major</td>\n",
       "      <td>Full</td>\n",
       "    </tr>\n",
       "    <tr>\n",
       "      <th>GCA_000017105</th>\n",
       "      <td>434922</td>\n",
       "      <td>777</td>\n",
       "      <td>k__Bacteria|p__Proteobacteria|c__Gammaproteobacteria|o__Legionellales|f__Coxiellaceae|g__Coxiella|s__Coxiella_burnetii|t__GCA_000017105</td>\n",
       "      <td>Coxiella burnetii Dugway 5J108-111</td>\n",
       "      <td>s__Coxiella_burnetii</td>\n",
       "      <td>representative genome</td>\n",
       "      <td>Complete Genome</td>\n",
       "      <td>strain=Dugway 5J108-111</td>\n",
       "      <td>NaN</td>\n",
       "      <td>latest</td>\n",
       "      <td>Major</td>\n",
       "      <td>Full</td>\n",
       "    </tr>\n",
       "    <tr>\n",
       "      <th>GCA_000007765</th>\n",
       "      <td>227377</td>\n",
       "      <td>777</td>\n",
       "      <td>k__Bacteria|p__Proteobacteria|c__Gammaproteobacteria|o__Legionellales|f__Coxiellaceae|g__Coxiella|s__Coxiella_burnetii|t__GCA_000007765</td>\n",
       "      <td>Coxiella burnetii RSA 493</td>\n",
       "      <td>s__Coxiella_burnetii</td>\n",
       "      <td>reference genome</td>\n",
       "      <td>Complete Genome</td>\n",
       "      <td>strain=RSA 493</td>\n",
       "      <td>NaN</td>\n",
       "      <td>latest</td>\n",
       "      <td>Major</td>\n",
       "      <td>Full</td>\n",
       "    </tr>\n",
       "    <tr>\n",
       "      <th>GCA_900142135</th>\n",
       "      <td>1121393</td>\n",
       "      <td>259354</td>\n",
       "      <td>k__Bacteria|p__Proteobacteria|c__Deltaproteobacteria|o__Desulfobacterales|f__Desulfobacteraceae|g__Desulfatibacillum|s__Desulfatibacillum_alkenivorans|t__GCA_900142135</td>\n",
       "      <td>Desulfatibacillum alkenivorans DSM 16219</td>\n",
       "      <td>s__Desulfatibacillum_alkenivorans</td>\n",
       "      <td>representative genome</td>\n",
       "      <td>Scaffold</td>\n",
       "      <td>strain=DSM 16219</td>\n",
       "      <td>NaN</td>\n",
       "      <td>latest</td>\n",
       "      <td>Major</td>\n",
       "      <td>Full</td>\n",
       "    </tr>\n",
       "    <tr>\n",
       "      <th>GCA_000021905</th>\n",
       "      <td>218208</td>\n",
       "      <td>218208</td>\n",
       "      <td>k__Bacteria|p__Proteobacteria|c__Deltaproteobacteria|o__Desulfobacterales|f__Desulfobacteraceae|g__Desulfatibacillum|s__Desulfatibacillum_alkenivorans|t__GCA_000021905</td>\n",
       "      <td>Desulfatibacillum aliphaticivorans</td>\n",
       "      <td>s__Desulfatibacillum_alkenivorans</td>\n",
       "      <td>representative genome</td>\n",
       "      <td>Complete Genome</td>\n",
       "      <td>strain=AK-01</td>\n",
       "      <td>NaN</td>\n",
       "      <td>latest</td>\n",
       "      <td>Major</td>\n",
       "      <td>Full</td>\n",
       "    </tr>\n",
       "    <tr>\n",
       "      <th>GCA_000152245</th>\n",
       "      <td>53442</td>\n",
       "      <td>53442</td>\n",
       "      <td>k__Bacteria|p__Firmicutes|c__Clostridia|o__Clostridiales|f__Eubacteriaceae|g__Eubacterium|s__Eubacterium_limosum|t__GCA_000152245</td>\n",
       "      <td>Eubacterium callanderi</td>\n",
       "      <td>s__Eubacterium_limosum</td>\n",
       "      <td>representative genome</td>\n",
       "      <td>Complete Genome</td>\n",
       "      <td>strain=KIST612</td>\n",
       "      <td>NaN</td>\n",
       "      <td>latest</td>\n",
       "      <td>Major</td>\n",
       "      <td>Full</td>\n",
       "    </tr>\n",
       "    <tr>\n",
       "      <th>GCA_000807675</th>\n",
       "      <td>1736</td>\n",
       "      <td>1736</td>\n",
       "      <td>k__Bacteria|p__Firmicutes|c__Clostridia|o__Clostridiales|f__Eubacteriaceae|g__Eubacterium|s__Eubacterium_limosum|t__GCA_000807675</td>\n",
       "      <td>Eubacterium limosum</td>\n",
       "      <td>s__Eubacterium_limosum</td>\n",
       "      <td>representative genome</td>\n",
       "      <td>Complete Genome</td>\n",
       "      <td>strain=ATCC 8486</td>\n",
       "      <td>NaN</td>\n",
       "      <td>latest</td>\n",
       "      <td>Major</td>\n",
       "      <td>Full</td>\n",
       "    </tr>\n",
       "    <tr>\n",
       "      <th>GCA_002763695</th>\n",
       "      <td>2663009</td>\n",
       "      <td>2663009</td>\n",
       "      <td>k__Bacteria|p__Fusobacteria|c__Fusobacteriia|o__Fusobacteriales|f__Fusobacteriaceae|g__Fusobacterium|s__Fusobacterium_periodonticum|t__GCA_002763695</td>\n",
       "      <td>Fusobacterium pseudoperiodonticum</td>\n",
       "      <td>s__Fusobacterium_periodonticum</td>\n",
       "      <td>representative genome</td>\n",
       "      <td>Complete Genome</td>\n",
       "      <td>strain=KCOM 1263</td>\n",
       "      <td>NaN</td>\n",
       "      <td>latest</td>\n",
       "      <td>Major</td>\n",
       "      <td>Full</td>\n",
       "    </tr>\n",
       "    <tr>\n",
       "      <th>GCA_000158215</th>\n",
       "      <td>469599</td>\n",
       "      <td>860</td>\n",
       "      <td>k__Bacteria|p__Fusobacteria|c__Fusobacteriia|o__Fusobacteriales|f__Fusobacteriaceae|g__Fusobacterium|s__Fusobacterium_periodonticum|t__GCA_000158215</td>\n",
       "      <td>Fusobacterium periodonticum 2_1_31</td>\n",
       "      <td>s__Fusobacterium_periodonticum</td>\n",
       "      <td>representative genome</td>\n",
       "      <td>Scaffold</td>\n",
       "      <td>strain=2_1_31</td>\n",
       "      <td>NaN</td>\n",
       "      <td>latest</td>\n",
       "      <td>Major</td>\n",
       "      <td>Full</td>\n",
       "    </tr>\n",
       "    <tr>\n",
       "      <th>GCA_900453235</th>\n",
       "      <td>144178</td>\n",
       "      <td>144178</td>\n",
       "      <td>k__Bacteria|p__Actinobacteria|c__Actinobacteria|o__Actinomycetales|f__Actinomycetaceae|g__Mobiluncus|s__Mobiluncus_curtisii|t__GCA_900453235</td>\n",
       "      <td>Mobiluncus holmesii</td>\n",
       "      <td>s__Mobiluncus_curtisii</td>\n",
       "      <td>representative genome</td>\n",
       "      <td>Contig</td>\n",
       "      <td>strain=NCTC11657</td>\n",
       "      <td>NaN</td>\n",
       "      <td>latest</td>\n",
       "      <td>Major</td>\n",
       "      <td>Full</td>\n",
       "    </tr>\n",
       "    <tr>\n",
       "      <th>GCA_000196535</th>\n",
       "      <td>548479</td>\n",
       "      <td>2051</td>\n",
       "      <td>k__Bacteria|p__Actinobacteria|c__Actinobacteria|o__Actinomycetales|f__Actinomycetaceae|g__Mobiluncus|s__Mobiluncus_curtisii|t__GCA_000196535</td>\n",
       "      <td>Mobiluncus curtisii ATCC 43063</td>\n",
       "      <td>s__Mobiluncus_curtisii</td>\n",
       "      <td>representative genome</td>\n",
       "      <td>Complete Genome</td>\n",
       "      <td>strain=ATCC 43063</td>\n",
       "      <td>NaN</td>\n",
       "      <td>latest</td>\n",
       "      <td>Major</td>\n",
       "      <td>Full</td>\n",
       "    </tr>\n",
       "    <tr>\n",
       "      <th>GCA_000934565</th>\n",
       "      <td>321846</td>\n",
       "      <td>321846</td>\n",
       "      <td>k__Bacteria|p__Proteobacteria|c__Gammaproteobacteria|o__Pseudomonadales|f__Pseudomonadaceae|g__Pseudomonas|s__Pseudomonas_fluorescens_group|t__GCA_000934565</td>\n",
       "      <td>Pseudomonas simiae</td>\n",
       "      <td>s__Pseudomonas_fluorescens_group</td>\n",
       "      <td>representative genome</td>\n",
       "      <td>Complete Genome</td>\n",
       "      <td>strain=PCL1751</td>\n",
       "      <td>NaN</td>\n",
       "      <td>latest</td>\n",
       "      <td>Major</td>\n",
       "      <td>Full</td>\n",
       "    </tr>\n",
       "    <tr>\n",
       "      <th>GCA_900475215</th>\n",
       "      <td>294</td>\n",
       "      <td>294</td>\n",
       "      <td>k__Bacteria|p__Proteobacteria|c__Gammaproteobacteria|o__Pseudomonadales|f__Pseudomonadaceae|g__Pseudomonas|s__Pseudomonas_fluorescens_group|t__GCA_900475215</td>\n",
       "      <td>Pseudomonas fluorescens</td>\n",
       "      <td>s__Pseudomonas_fluorescens_group</td>\n",
       "      <td>representative genome</td>\n",
       "      <td>Complete Genome</td>\n",
       "      <td>strain=NCTC10038</td>\n",
       "      <td>NaN</td>\n",
       "      <td>latest</td>\n",
       "      <td>Major</td>\n",
       "      <td>Full</td>\n",
       "    </tr>\n",
       "    <tr>\n",
       "      <th>GCA_001708485</th>\n",
       "      <td>244566</td>\n",
       "      <td>244566</td>\n",
       "      <td>k__Bacteria|p__Proteobacteria|c__Gammaproteobacteria|o__Pseudomonadales|f__Pseudomonadaceae|g__Pseudomonas|s__Pseudomonas_fluorescens_group|t__GCA_001708485</td>\n",
       "      <td>Pseudomonas lurida</td>\n",
       "      <td>s__Pseudomonas_fluorescens_group</td>\n",
       "      <td>representative genome</td>\n",
       "      <td>Complete Genome</td>\n",
       "      <td>strain=L228</td>\n",
       "      <td>NaN</td>\n",
       "      <td>latest</td>\n",
       "      <td>Major</td>\n",
       "      <td>Full</td>\n",
       "    </tr>\n",
       "    <tr>\n",
       "      <th>GCA_900129835</th>\n",
       "      <td>1403346</td>\n",
       "      <td>271420</td>\n",
       "      <td>k__Bacteria|p__Proteobacteria|c__Gammaproteobacteria|o__Pseudomonadales|f__Pseudomonadaceae|g__Pseudomonas|s__Pseudomonas_stutzeri_group|t__GCA_900129835</td>\n",
       "      <td>Pseudomonas xanthomarina DSM 18231</td>\n",
       "      <td>s__Pseudomonas_stutzeri_group</td>\n",
       "      <td>representative genome</td>\n",
       "      <td>Contig</td>\n",
       "      <td>strain=DSM 18231</td>\n",
       "      <td>NaN</td>\n",
       "      <td>latest</td>\n",
       "      <td>Major</td>\n",
       "      <td>Full</td>\n",
       "    </tr>\n",
       "    <tr>\n",
       "      <th>GCA_000818015</th>\n",
       "      <td>1123016</td>\n",
       "      <td>74829</td>\n",
       "      <td>k__Bacteria|p__Proteobacteria|c__Gammaproteobacteria|o__Pseudomonadales|f__Pseudomonadaceae|g__Pseudomonas|s__Pseudomonas_stutzeri_group|t__GCA_000818015</td>\n",
       "      <td>Pseudomonas balearica DSM 6083</td>\n",
       "      <td>s__Pseudomonas_stutzeri_group</td>\n",
       "      <td>representative genome</td>\n",
       "      <td>Complete Genome</td>\n",
       "      <td>strain=DSM6083 (=SP1402)</td>\n",
       "      <td>NaN</td>\n",
       "      <td>latest</td>\n",
       "      <td>Major</td>\n",
       "      <td>Full</td>\n",
       "    </tr>\n",
       "    <tr>\n",
       "      <th>GCA_000517305</th>\n",
       "      <td>1441629</td>\n",
       "      <td>36746</td>\n",
       "      <td>k__Bacteria|p__Proteobacteria|c__Gammaproteobacteria|o__Pseudomonadales|f__Pseudomonadaceae|g__Pseudomonas|s__Pseudomonas_syringae_group|t__GCA_000517305</td>\n",
       "      <td>Pseudomonas cichorii JBC1</td>\n",
       "      <td>s__Pseudomonas_syringae_group</td>\n",
       "      <td>representative genome</td>\n",
       "      <td>Complete Genome</td>\n",
       "      <td>strain=JBC1</td>\n",
       "      <td>NaN</td>\n",
       "      <td>latest</td>\n",
       "      <td>Major</td>\n",
       "      <td>Full</td>\n",
       "    </tr>\n",
       "    <tr>\n",
       "      <th>GCA_001400735</th>\n",
       "      <td>46678</td>\n",
       "      <td>46678</td>\n",
       "      <td>k__Bacteria|p__Proteobacteria|c__Gammaproteobacteria|o__Pseudomonadales|f__Pseudomonadaceae|g__Pseudomonas|s__Pseudomonas_syringae_group|t__GCA_001400735</td>\n",
       "      <td>Pseudomonas caricapapayae</td>\n",
       "      <td>s__Pseudomonas_syringae_group</td>\n",
       "      <td>representative genome</td>\n",
       "      <td>Scaffold</td>\n",
       "      <td>strain=ICMP2855</td>\n",
       "      <td>NaN</td>\n",
       "      <td>latest</td>\n",
       "      <td>Major</td>\n",
       "      <td>Full</td>\n",
       "    </tr>\n",
       "    <tr>\n",
       "      <th>GCA_900184295</th>\n",
       "      <td>33069</td>\n",
       "      <td>33069</td>\n",
       "      <td>k__Bacteria|p__Proteobacteria|c__Gammaproteobacteria|o__Pseudomonadales|f__Pseudomonadaceae|g__Pseudomonas|s__Pseudomonas_syringae_group|t__GCA_900184295</td>\n",
       "      <td>Pseudomonas viridiflava</td>\n",
       "      <td>s__Pseudomonas_syringae_group</td>\n",
       "      <td>representative genome</td>\n",
       "      <td>Complete Genome</td>\n",
       "      <td>strain=CFBP 1590</td>\n",
       "      <td>E12-5</td>\n",
       "      <td>latest</td>\n",
       "      <td>Major</td>\n",
       "      <td>Full</td>\n",
       "    </tr>\n",
       "    <tr>\n",
       "      <th>GCA_002905795</th>\n",
       "      <td>46257</td>\n",
       "      <td>46257</td>\n",
       "      <td>k__Bacteria|p__Proteobacteria|c__Gammaproteobacteria|o__Pseudomonadales|f__Pseudomonadaceae|g__Pseudomonas|s__Pseudomonas_syringae_group|t__GCA_002905795</td>\n",
       "      <td>Pseudomonas avellanae</td>\n",
       "      <td>s__Pseudomonas_syringae_group</td>\n",
       "      <td>representative genome</td>\n",
       "      <td>Complete Genome</td>\n",
       "      <td>strain=R2leaf</td>\n",
       "      <td>NaN</td>\n",
       "      <td>latest</td>\n",
       "      <td>Major</td>\n",
       "      <td>Full</td>\n",
       "    </tr>\n",
       "    <tr>\n",
       "      <th>GCA_001664265</th>\n",
       "      <td>1967781</td>\n",
       "      <td>1967781</td>\n",
       "      <td>k__Bacteria|p__Proteobacteria|c__Alphaproteobacteria|o__Rhizobiales|f__Rhizobiaceae|g__Rhizobium|s__Rhizobium_etli|t__GCA_001664265</td>\n",
       "      <td>Rhizobium esperanzae</td>\n",
       "      <td>s__Rhizobium_etli</td>\n",
       "      <td>representative genome</td>\n",
       "      <td>Complete Genome</td>\n",
       "      <td>strain=N561</td>\n",
       "      <td>NaN</td>\n",
       "      <td>latest</td>\n",
       "      <td>Major</td>\n",
       "      <td>Full</td>\n",
       "    </tr>\n",
       "    <tr>\n",
       "      <th>GCA_000092045</th>\n",
       "      <td>347834</td>\n",
       "      <td>29449</td>\n",
       "      <td>k__Bacteria|p__Proteobacteria|c__Alphaproteobacteria|o__Rhizobiales|f__Rhizobiaceae|g__Rhizobium|s__Rhizobium_etli|t__GCA_000092045</td>\n",
       "      <td>Rhizobium etli CFN 42</td>\n",
       "      <td>s__Rhizobium_etli</td>\n",
       "      <td>representative genome</td>\n",
       "      <td>Complete Genome</td>\n",
       "      <td>strain=CFN 42</td>\n",
       "      <td>NaN</td>\n",
       "      <td>latest</td>\n",
       "      <td>Major</td>\n",
       "      <td>Full</td>\n",
       "    </tr>\n",
       "    <tr>\n",
       "      <th>GCA_900215625</th>\n",
       "      <td>586416</td>\n",
       "      <td>586416</td>\n",
       "      <td>k__Bacteria|p__Firmicutes|c__Bacilli|o__Bacillales|f__Bacillaceae|g__Terribacillus|s__Terribacillus_aidingensis|t__GCA_900215625</td>\n",
       "      <td>Terribacillus aidingensis</td>\n",
       "      <td>s__Terribacillus_aidingensis</td>\n",
       "      <td>representative genome</td>\n",
       "      <td>Scaffold</td>\n",
       "      <td>strain=CGMCC 1.8913</td>\n",
       "      <td>NaN</td>\n",
       "      <td>latest</td>\n",
       "      <td>Major</td>\n",
       "      <td>Full</td>\n",
       "    </tr>\n",
       "    <tr>\n",
       "      <th>GCA_000725365</th>\n",
       "      <td>386490</td>\n",
       "      <td>386490</td>\n",
       "      <td>k__Bacteria|p__Firmicutes|c__Bacilli|o__Bacillales|f__Bacillaceae|g__Terribacillus|s__Terribacillus_aidingensis|t__GCA_000725365</td>\n",
       "      <td>Terribacillus goriensis</td>\n",
       "      <td>s__Terribacillus_aidingensis</td>\n",
       "      <td>representative genome</td>\n",
       "      <td>Complete Genome</td>\n",
       "      <td>strain=MP602</td>\n",
       "      <td>NaN</td>\n",
       "      <td>latest</td>\n",
       "      <td>Major</td>\n",
       "      <td>Full</td>\n",
       "    </tr>\n",
       "  </tbody>\n",
       "</table>\n",
       "</div>"
      ],
      "text/plain": [
       "                 taxid  species_taxid  \\\n",
       "GCA_000943515    31958          31958   \n",
       "GCA_000400635   129921         129921   \n",
       "GCA_000008725   272561            813   \n",
       "GCA_000012125   315277            813   \n",
       "GCA_000093145   363952         363952   \n",
       "GCA_000739375  1392005            285   \n",
       "GCA_000017105   434922            777   \n",
       "GCA_000007765   227377            777   \n",
       "GCA_900142135  1121393         259354   \n",
       "GCA_000021905   218208         218208   \n",
       "GCA_000152245    53442          53442   \n",
       "GCA_000807675     1736           1736   \n",
       "GCA_002763695  2663009        2663009   \n",
       "GCA_000158215   469599            860   \n",
       "GCA_900453235   144178         144178   \n",
       "GCA_000196535   548479           2051   \n",
       "GCA_000934565   321846         321846   \n",
       "GCA_900475215      294            294   \n",
       "GCA_001708485   244566         244566   \n",
       "GCA_900129835  1403346         271420   \n",
       "GCA_000818015  1123016          74829   \n",
       "GCA_000517305  1441629          36746   \n",
       "GCA_001400735    46678          46678   \n",
       "GCA_900184295    33069          33069   \n",
       "GCA_002905795    46257          46257   \n",
       "GCA_001664265  1967781        1967781   \n",
       "GCA_000092045   347834          29449   \n",
       "GCA_900215625   586416         586416   \n",
       "GCA_000725365   386490         386490   \n",
       "\n",
       "                                                                                                                                                                         full_tax_name  \\\n",
       "GCA_000943515                 k__Bacteria|p__Actinobacteria|c__Actinobacteria|o__Pseudonocardiales|f__Pseudonocardiaceae|g__Amycolatopsis|s__Amycolatopsis_orientalis|t__GCA_000943515   \n",
       "GCA_000400635                 k__Bacteria|p__Actinobacteria|c__Actinobacteria|o__Pseudonocardiales|f__Pseudonocardiaceae|g__Amycolatopsis|s__Amycolatopsis_orientalis|t__GCA_000400635   \n",
       "GCA_000008725                                          k__Bacteria|p__Chlamydiae|c__Chlamydiia|o__Chlamydiales|f__Chlamydiaceae|g__Chlamydia|s__Chlamydia_trachomatis|t__GCA_000008725   \n",
       "GCA_000012125                                          k__Bacteria|p__Chlamydiae|c__Chlamydiia|o__Chlamydiales|f__Chlamydiaceae|g__Chlamydia|s__Chlamydia_trachomatis|t__GCA_000012125   \n",
       "GCA_000093145                         k__Bacteria|p__Proteobacteria|c__Betaproteobacteria|o__Burkholderiales|f__Comamonadaceae|g__Comamonas|s__Comamonas_testosteroni|t__GCA_000093145   \n",
       "GCA_000739375                         k__Bacteria|p__Proteobacteria|c__Betaproteobacteria|o__Burkholderiales|f__Comamonadaceae|g__Comamonas|s__Comamonas_testosteroni|t__GCA_000739375   \n",
       "GCA_000017105                                  k__Bacteria|p__Proteobacteria|c__Gammaproteobacteria|o__Legionellales|f__Coxiellaceae|g__Coxiella|s__Coxiella_burnetii|t__GCA_000017105   \n",
       "GCA_000007765                                  k__Bacteria|p__Proteobacteria|c__Gammaproteobacteria|o__Legionellales|f__Coxiellaceae|g__Coxiella|s__Coxiella_burnetii|t__GCA_000007765   \n",
       "GCA_900142135  k__Bacteria|p__Proteobacteria|c__Deltaproteobacteria|o__Desulfobacterales|f__Desulfobacteraceae|g__Desulfatibacillum|s__Desulfatibacillum_alkenivorans|t__GCA_900142135   \n",
       "GCA_000021905  k__Bacteria|p__Proteobacteria|c__Deltaproteobacteria|o__Desulfobacterales|f__Desulfobacteraceae|g__Desulfatibacillum|s__Desulfatibacillum_alkenivorans|t__GCA_000021905   \n",
       "GCA_000152245                                        k__Bacteria|p__Firmicutes|c__Clostridia|o__Clostridiales|f__Eubacteriaceae|g__Eubacterium|s__Eubacterium_limosum|t__GCA_000152245   \n",
       "GCA_000807675                                        k__Bacteria|p__Firmicutes|c__Clostridia|o__Clostridiales|f__Eubacteriaceae|g__Eubacterium|s__Eubacterium_limosum|t__GCA_000807675   \n",
       "GCA_002763695                     k__Bacteria|p__Fusobacteria|c__Fusobacteriia|o__Fusobacteriales|f__Fusobacteriaceae|g__Fusobacterium|s__Fusobacterium_periodonticum|t__GCA_002763695   \n",
       "GCA_000158215                     k__Bacteria|p__Fusobacteria|c__Fusobacteriia|o__Fusobacteriales|f__Fusobacteriaceae|g__Fusobacterium|s__Fusobacterium_periodonticum|t__GCA_000158215   \n",
       "GCA_900453235                             k__Bacteria|p__Actinobacteria|c__Actinobacteria|o__Actinomycetales|f__Actinomycetaceae|g__Mobiluncus|s__Mobiluncus_curtisii|t__GCA_900453235   \n",
       "GCA_000196535                             k__Bacteria|p__Actinobacteria|c__Actinobacteria|o__Actinomycetales|f__Actinomycetaceae|g__Mobiluncus|s__Mobiluncus_curtisii|t__GCA_000196535   \n",
       "GCA_000934565             k__Bacteria|p__Proteobacteria|c__Gammaproteobacteria|o__Pseudomonadales|f__Pseudomonadaceae|g__Pseudomonas|s__Pseudomonas_fluorescens_group|t__GCA_000934565   \n",
       "GCA_900475215             k__Bacteria|p__Proteobacteria|c__Gammaproteobacteria|o__Pseudomonadales|f__Pseudomonadaceae|g__Pseudomonas|s__Pseudomonas_fluorescens_group|t__GCA_900475215   \n",
       "GCA_001708485             k__Bacteria|p__Proteobacteria|c__Gammaproteobacteria|o__Pseudomonadales|f__Pseudomonadaceae|g__Pseudomonas|s__Pseudomonas_fluorescens_group|t__GCA_001708485   \n",
       "GCA_900129835                k__Bacteria|p__Proteobacteria|c__Gammaproteobacteria|o__Pseudomonadales|f__Pseudomonadaceae|g__Pseudomonas|s__Pseudomonas_stutzeri_group|t__GCA_900129835   \n",
       "GCA_000818015                k__Bacteria|p__Proteobacteria|c__Gammaproteobacteria|o__Pseudomonadales|f__Pseudomonadaceae|g__Pseudomonas|s__Pseudomonas_stutzeri_group|t__GCA_000818015   \n",
       "GCA_000517305                k__Bacteria|p__Proteobacteria|c__Gammaproteobacteria|o__Pseudomonadales|f__Pseudomonadaceae|g__Pseudomonas|s__Pseudomonas_syringae_group|t__GCA_000517305   \n",
       "GCA_001400735                k__Bacteria|p__Proteobacteria|c__Gammaproteobacteria|o__Pseudomonadales|f__Pseudomonadaceae|g__Pseudomonas|s__Pseudomonas_syringae_group|t__GCA_001400735   \n",
       "GCA_900184295                k__Bacteria|p__Proteobacteria|c__Gammaproteobacteria|o__Pseudomonadales|f__Pseudomonadaceae|g__Pseudomonas|s__Pseudomonas_syringae_group|t__GCA_900184295   \n",
       "GCA_002905795                k__Bacteria|p__Proteobacteria|c__Gammaproteobacteria|o__Pseudomonadales|f__Pseudomonadaceae|g__Pseudomonas|s__Pseudomonas_syringae_group|t__GCA_002905795   \n",
       "GCA_001664265                                      k__Bacteria|p__Proteobacteria|c__Alphaproteobacteria|o__Rhizobiales|f__Rhizobiaceae|g__Rhizobium|s__Rhizobium_etli|t__GCA_001664265   \n",
       "GCA_000092045                                      k__Bacteria|p__Proteobacteria|c__Alphaproteobacteria|o__Rhizobiales|f__Rhizobiaceae|g__Rhizobium|s__Rhizobium_etli|t__GCA_000092045   \n",
       "GCA_900215625                                         k__Bacteria|p__Firmicutes|c__Bacilli|o__Bacillales|f__Bacillaceae|g__Terribacillus|s__Terribacillus_aidingensis|t__GCA_900215625   \n",
       "GCA_000725365                                         k__Bacteria|p__Firmicutes|c__Bacilli|o__Bacillales|f__Bacillaceae|g__Terribacillus|s__Terribacillus_aidingensis|t__GCA_000725365   \n",
       "\n",
       "                                          organism_name  \\\n",
       "GCA_000943515                  Amycolatopsis orientalis   \n",
       "GCA_000400635               Amycolatopsis keratiniphila   \n",
       "GCA_000008725           Chlamydia trachomatis D/UW-3/CX   \n",
       "GCA_000012125            Chlamydia trachomatis A/HAR-13   \n",
       "GCA_000093145                     Comamonas thiooxydans   \n",
       "GCA_000739375              Comamonas testosteroni TK102   \n",
       "GCA_000017105        Coxiella burnetii Dugway 5J108-111   \n",
       "GCA_000007765                 Coxiella burnetii RSA 493   \n",
       "GCA_900142135  Desulfatibacillum alkenivorans DSM 16219   \n",
       "GCA_000021905        Desulfatibacillum aliphaticivorans   \n",
       "GCA_000152245                    Eubacterium callanderi   \n",
       "GCA_000807675                       Eubacterium limosum   \n",
       "GCA_002763695         Fusobacterium pseudoperiodonticum   \n",
       "GCA_000158215        Fusobacterium periodonticum 2_1_31   \n",
       "GCA_900453235                       Mobiluncus holmesii   \n",
       "GCA_000196535            Mobiluncus curtisii ATCC 43063   \n",
       "GCA_000934565                        Pseudomonas simiae   \n",
       "GCA_900475215                   Pseudomonas fluorescens   \n",
       "GCA_001708485                        Pseudomonas lurida   \n",
       "GCA_900129835        Pseudomonas xanthomarina DSM 18231   \n",
       "GCA_000818015            Pseudomonas balearica DSM 6083   \n",
       "GCA_000517305                 Pseudomonas cichorii JBC1   \n",
       "GCA_001400735                 Pseudomonas caricapapayae   \n",
       "GCA_900184295                   Pseudomonas viridiflava   \n",
       "GCA_002905795                     Pseudomonas avellanae   \n",
       "GCA_001664265                      Rhizobium esperanzae   \n",
       "GCA_000092045                     Rhizobium etli CFN 42   \n",
       "GCA_900215625                 Terribacillus aidingensis   \n",
       "GCA_000725365                   Terribacillus goriensis   \n",
       "\n",
       "                                             s__        refseq_category  \\\n",
       "GCA_000943515        s__Amycolatopsis_orientalis  representative genome   \n",
       "GCA_000400635        s__Amycolatopsis_orientalis  representative genome   \n",
       "GCA_000008725           s__Chlamydia_trachomatis       reference genome   \n",
       "GCA_000012125           s__Chlamydia_trachomatis  representative genome   \n",
       "GCA_000093145          s__Comamonas_testosteroni  representative genome   \n",
       "GCA_000739375          s__Comamonas_testosteroni  representative genome   \n",
       "GCA_000017105               s__Coxiella_burnetii  representative genome   \n",
       "GCA_000007765               s__Coxiella_burnetii       reference genome   \n",
       "GCA_900142135  s__Desulfatibacillum_alkenivorans  representative genome   \n",
       "GCA_000021905  s__Desulfatibacillum_alkenivorans  representative genome   \n",
       "GCA_000152245             s__Eubacterium_limosum  representative genome   \n",
       "GCA_000807675             s__Eubacterium_limosum  representative genome   \n",
       "GCA_002763695     s__Fusobacterium_periodonticum  representative genome   \n",
       "GCA_000158215     s__Fusobacterium_periodonticum  representative genome   \n",
       "GCA_900453235             s__Mobiluncus_curtisii  representative genome   \n",
       "GCA_000196535             s__Mobiluncus_curtisii  representative genome   \n",
       "GCA_000934565   s__Pseudomonas_fluorescens_group  representative genome   \n",
       "GCA_900475215   s__Pseudomonas_fluorescens_group  representative genome   \n",
       "GCA_001708485   s__Pseudomonas_fluorescens_group  representative genome   \n",
       "GCA_900129835      s__Pseudomonas_stutzeri_group  representative genome   \n",
       "GCA_000818015      s__Pseudomonas_stutzeri_group  representative genome   \n",
       "GCA_000517305      s__Pseudomonas_syringae_group  representative genome   \n",
       "GCA_001400735      s__Pseudomonas_syringae_group  representative genome   \n",
       "GCA_900184295      s__Pseudomonas_syringae_group  representative genome   \n",
       "GCA_002905795      s__Pseudomonas_syringae_group  representative genome   \n",
       "GCA_001664265                  s__Rhizobium_etli  representative genome   \n",
       "GCA_000092045                  s__Rhizobium_etli  representative genome   \n",
       "GCA_900215625       s__Terribacillus_aidingensis  representative genome   \n",
       "GCA_000725365       s__Terribacillus_aidingensis  representative genome   \n",
       "\n",
       "                assembly_level          infraspecific_name isolate  \\\n",
       "GCA_000943515  Complete Genome                 strain=B-37     NaN   \n",
       "GCA_000400635  Complete Genome            strain=HCCB10007     NaN   \n",
       "GCA_000008725  Complete Genome            strain=D/UW-3/CX     NaN   \n",
       "GCA_000012125  Complete Genome             strain=A/HAR-13     NaN   \n",
       "GCA_000093145  Complete Genome  strain=CNB-1 substr. CNB-2     NaN   \n",
       "GCA_000739375  Complete Genome                strain=TK102     NaN   \n",
       "GCA_000017105  Complete Genome     strain=Dugway 5J108-111     NaN   \n",
       "GCA_000007765  Complete Genome              strain=RSA 493     NaN   \n",
       "GCA_900142135         Scaffold            strain=DSM 16219     NaN   \n",
       "GCA_000021905  Complete Genome                strain=AK-01     NaN   \n",
       "GCA_000152245  Complete Genome              strain=KIST612     NaN   \n",
       "GCA_000807675  Complete Genome            strain=ATCC 8486     NaN   \n",
       "GCA_002763695  Complete Genome            strain=KCOM 1263     NaN   \n",
       "GCA_000158215         Scaffold               strain=2_1_31     NaN   \n",
       "GCA_900453235           Contig            strain=NCTC11657     NaN   \n",
       "GCA_000196535  Complete Genome           strain=ATCC 43063     NaN   \n",
       "GCA_000934565  Complete Genome              strain=PCL1751     NaN   \n",
       "GCA_900475215  Complete Genome            strain=NCTC10038     NaN   \n",
       "GCA_001708485  Complete Genome                 strain=L228     NaN   \n",
       "GCA_900129835           Contig            strain=DSM 18231     NaN   \n",
       "GCA_000818015  Complete Genome    strain=DSM6083 (=SP1402)     NaN   \n",
       "GCA_000517305  Complete Genome                 strain=JBC1     NaN   \n",
       "GCA_001400735         Scaffold             strain=ICMP2855     NaN   \n",
       "GCA_900184295  Complete Genome            strain=CFBP 1590   E12-5   \n",
       "GCA_002905795  Complete Genome               strain=R2leaf     NaN   \n",
       "GCA_001664265  Complete Genome                 strain=N561     NaN   \n",
       "GCA_000092045  Complete Genome               strain=CFN 42     NaN   \n",
       "GCA_900215625         Scaffold         strain=CGMCC 1.8913     NaN   \n",
       "GCA_000725365  Complete Genome                strain=MP602     NaN   \n",
       "\n",
       "              version_status release_type genome_rep  \n",
       "GCA_000943515         latest        Major       Full  \n",
       "GCA_000400635         latest        Major       Full  \n",
       "GCA_000008725         latest        Major       Full  \n",
       "GCA_000012125         latest        Major       Full  \n",
       "GCA_000093145         latest        Major       Full  \n",
       "GCA_000739375         latest        Major       Full  \n",
       "GCA_000017105         latest        Major       Full  \n",
       "GCA_000007765         latest        Major       Full  \n",
       "GCA_900142135         latest        Major       Full  \n",
       "GCA_000021905         latest        Major       Full  \n",
       "GCA_000152245         latest        Major       Full  \n",
       "GCA_000807675         latest        Major       Full  \n",
       "GCA_002763695         latest        Major       Full  \n",
       "GCA_000158215         latest        Major       Full  \n",
       "GCA_900453235         latest        Major       Full  \n",
       "GCA_000196535         latest        Major       Full  \n",
       "GCA_000934565         latest        Major       Full  \n",
       "GCA_900475215         latest        Major       Full  \n",
       "GCA_001708485         latest        Major       Full  \n",
       "GCA_900129835         latest        Major       Full  \n",
       "GCA_000818015         latest        Major       Full  \n",
       "GCA_000517305         latest        Major       Full  \n",
       "GCA_001400735         latest        Major       Full  \n",
       "GCA_900184295         latest        Major       Full  \n",
       "GCA_002905795         latest        Major       Full  \n",
       "GCA_001664265         latest        Major       Full  \n",
       "GCA_000092045         latest        Major       Full  \n",
       "GCA_900215625         latest        Major       Full  \n",
       "GCA_000725365         latest        Major       Full  "
      ]
     },
     "execution_count": 322,
     "metadata": {},
     "output_type": "execute_result"
    }
   ],
   "source": [
    "# First let's get genomes that are representative or reference\n",
    "reference_genomes = merged.loc[merged['refseq_category'] == 'reference genome']\n",
    "representative_genomes = merged.loc[merged['refseq_category'] == 'representative genome']\n",
    "\n",
    "good_genomes = pd.concat([reference_genomes, representative_genomes])\n",
    "\n",
    "# checking species duplicates\n",
    "good_genomes['dup'] = good_genomes['s__'].duplicated(keep=False)\n",
    "good_genomes.loc[good_genomes['dup'] == True].sort_values('s__')[['taxid','species_taxid','full_tax_name', 'organism_name', 's__', 'refseq_category','assembly_level', 'infraspecific_name','isolate','version_status',  'release_type', 'genome_rep']]"
   ]
  },
  {
   "cell_type": "code",
   "execution_count": 323,
   "metadata": {},
   "outputs": [],
   "source": [
    "remove_from_good = [\n",
    "    'GCA_000400635',\n",
    "    'GCA_000012125',\n",
    "    'GCA_000093145',\n",
    "    'GCA_000017105',\n",
    "    'GCA_000021905',\n",
    "    'GCA_000152245',\n",
    "    'GCA_002763695',\n",
    "    'GCA_900453235',\n",
    "    'GCA_000934565',\n",
    "    'GCA_001708485',\n",
    "    'GCA_900129835',\n",
    "    'GCA_000517305',\n",
    "    'GCA_001400735',\n",
    "    'GCA_002905795',\n",
    "    'GCA_001664265',\n",
    "    'GCA_000725365',\n",
    "]\n",
    "good_genomes = good_genomes.loc[~good_genomes.index.isin(remove_from_good)]"
   ]
  },
  {
   "cell_type": "code",
   "execution_count": 324,
   "metadata": {},
   "outputs": [],
   "source": [
    "managed_clades = good_genomes['s__'].unique()\n",
    "now_manage_this = merged[~merged['s__'].isin(managed_clades)]"
   ]
  },
  {
   "cell_type": "code",
   "execution_count": 325,
   "metadata": {},
   "outputs": [
    {
     "name": "stderr",
     "output_type": "stream",
     "text": [
      "/home/fedorov/miniconda3/envs/notebook/lib/python3.6/site-packages/ipykernel_launcher.py:1: SettingWithCopyWarning: \n",
      "A value is trying to be set on a copy of a slice from a DataFrame.\n",
      "Try using .loc[row_indexer,col_indexer] = value instead\n",
      "\n",
      "See the caveats in the documentation: http://pandas.pydata.org/pandas-docs/stable/user_guide/indexing.html#returning-a-view-versus-a-copy\n",
      "  \"\"\"Entry point for launching an IPython kernel.\n"
     ]
    }
   ],
   "source": [
    "now_manage_this['dup'] = now_manage_this['s__'].duplicated(keep=False)\n",
    "\n",
    "wo_dups = now_manage_this.loc[now_manage_this['dup'] != True]\n",
    "\n",
    "now_manage_this_dups = now_manage_this.loc[now_manage_this['dup'] == True].sort_values('s__')"
   ]
  },
  {
   "cell_type": "code",
   "execution_count": 326,
   "metadata": {},
   "outputs": [],
   "source": [
    "now_manage_this_dups['dup'] = now_manage_this_dups['s__'].duplicated(keep='first')\n",
    "dups_first = now_manage_this_dups.loc[now_manage_this_dups['dup'] == False]"
   ]
  },
  {
   "cell_type": "code",
   "execution_count": 327,
   "metadata": {},
   "outputs": [],
   "source": [
    "all_managed  = pd.concat([good_genomes, wo_dups, dups_first])"
   ]
  },
  {
   "cell_type": "code",
   "execution_count": 311,
   "metadata": {},
   "outputs": [
    {
     "data": {
      "text/plain": [
       "10360"
      ]
     },
     "execution_count": 311,
     "metadata": {},
     "output_type": "execute_result"
    }
   ],
   "source": [
    "all_managed.shape\n",
    "len(all_managed['s__'].unique())"
   ]
  },
  {
   "cell_type": "code",
   "execution_count": 328,
   "metadata": {},
   "outputs": [],
   "source": [
    "all_managed['file_name'] = all_managed['ftp_path'].str.split('/').str[-1] + '_genomic.fna'"
   ]
  },
  {
   "cell_type": "code",
   "execution_count": null,
   "metadata": {},
   "outputs": [],
   "source": []
  },
  {
   "cell_type": "markdown",
   "metadata": {},
   "source": [
    "# Preparations on FS for Phylophlan\n",
    "1 - ungz all genomes"
   ]
  },
  {
   "cell_type": "code",
   "execution_count": 280,
   "metadata": {},
   "outputs": [
    {
     "name": "stdout",
     "output_type": "stream",
     "text": [
      "\u001b[33mBuilding DAG of jobs...\u001b[0m\n",
      "\u001b[33mNothing to be done.\u001b[0m\n"
     ]
    }
   ],
   "source": [
    "!snakemake -s ./ungz_genomes.py -n run_all -j 20"
   ]
  },
  {
   "cell_type": "markdown",
   "metadata": {},
   "source": [
    "2 - move to flat new folder "
   ]
  },
  {
   "cell_type": "code",
   "execution_count": 281,
   "metadata": {},
   "outputs": [
    {
     "name": "stdout",
     "output_type": "stream",
     "text": [
      "mv: cannot stat '/data11/bio/databases/metaphlan2/mp_genomes/*/*.fna': No such file or directory\n"
     ]
    }
   ],
   "source": [
    "!mv /data11/bio/databases/metaphlan2/mp_genomes/*/*.fna /data11/bio/databases/metaphlan2/mp_genomes_fna"
   ]
  },
  {
   "cell_type": "code",
   "execution_count": 216,
   "metadata": {},
   "outputs": [
    {
     "data": {
      "text/html": [
       "<div>\n",
       "<style scoped>\n",
       "    .dataframe tbody tr th:only-of-type {\n",
       "        vertical-align: middle;\n",
       "    }\n",
       "\n",
       "    .dataframe tbody tr th {\n",
       "        vertical-align: top;\n",
       "    }\n",
       "\n",
       "    .dataframe thead th {\n",
       "        text-align: right;\n",
       "    }\n",
       "</style>\n",
       "<table border=\"1\" class=\"dataframe\">\n",
       "  <thead>\n",
       "    <tr style=\"text-align: right;\">\n",
       "      <th></th>\n",
       "      <th>bioproject</th>\n",
       "      <th>biosample</th>\n",
       "      <th>wgs_master</th>\n",
       "      <th>refseq_category</th>\n",
       "      <th>taxid</th>\n",
       "      <th>species_taxid</th>\n",
       "      <th>organism_name</th>\n",
       "      <th>infraspecific_name</th>\n",
       "      <th>isolate</th>\n",
       "      <th>version_status</th>\n",
       "      <th>...</th>\n",
       "      <th>gbrs_paired_asm</th>\n",
       "      <th>paired_asm_comp</th>\n",
       "      <th>ftp_path</th>\n",
       "      <th>excluded_from_refseq</th>\n",
       "      <th>relation_to_type_material</th>\n",
       "      <th>ACC</th>\n",
       "      <th>dup</th>\n",
       "      <th>full_tax_name</th>\n",
       "      <th>s__</th>\n",
       "      <th>file_name</th>\n",
       "    </tr>\n",
       "  </thead>\n",
       "  <tbody>\n",
       "    <tr>\n",
       "      <th>GCA_002077945</th>\n",
       "      <td>PRJNA316778</td>\n",
       "      <td>SAMN04590022</td>\n",
       "      <td>LVYD00000000.1</td>\n",
       "      <td>representative genome</td>\n",
       "      <td>1703345</td>\n",
       "      <td>1703345</td>\n",
       "      <td>Niastella vici</td>\n",
       "      <td>strain=DJ57</td>\n",
       "      <td>NaN</td>\n",
       "      <td>latest</td>\n",
       "      <td>...</td>\n",
       "      <td>GCF_002077945.1</td>\n",
       "      <td>identical</td>\n",
       "      <td>ftp://ftp.ncbi.nlm.nih.gov/genomes/all/GCA/002/077/945/GCA_002077945.1_ASM207794v1</td>\n",
       "      <td>NaN</td>\n",
       "      <td>assembly from type material</td>\n",
       "      <td>GCA_002077945</td>\n",
       "      <td>False</td>\n",
       "      <td>k__Bacteria|p__Bacteroidetes|c__Chitinophagia|o__Chitinophagales|f__Chitinophagaceae|g__Niastella|s__Niastella_vici|t__GCA_002077945</td>\n",
       "      <td>s__Niastella_vici</td>\n",
       "      <td>GCA_002077945.1_ASM207794v1_genomic.fna</td>\n",
       "    </tr>\n",
       "  </tbody>\n",
       "</table>\n",
       "<p>1 rows × 26 columns</p>\n",
       "</div>"
      ],
      "text/plain": [
       "                bioproject     biosample      wgs_master  \\\n",
       "GCA_002077945  PRJNA316778  SAMN04590022  LVYD00000000.1   \n",
       "\n",
       "                     refseq_category    taxid  species_taxid   organism_name  \\\n",
       "GCA_002077945  representative genome  1703345        1703345  Niastella vici   \n",
       "\n",
       "              infraspecific_name isolate version_status  ...  gbrs_paired_asm  \\\n",
       "GCA_002077945        strain=DJ57     NaN         latest  ...  GCF_002077945.1   \n",
       "\n",
       "              paired_asm_comp  \\\n",
       "GCA_002077945       identical   \n",
       "\n",
       "                                                                                         ftp_path  \\\n",
       "GCA_002077945  ftp://ftp.ncbi.nlm.nih.gov/genomes/all/GCA/002/077/945/GCA_002077945.1_ASM207794v1   \n",
       "\n",
       "              excluded_from_refseq    relation_to_type_material  \\\n",
       "GCA_002077945                  NaN  assembly from type material   \n",
       "\n",
       "                         ACC    dup  \\\n",
       "GCA_002077945  GCA_002077945  False   \n",
       "\n",
       "                                                                                                                                      full_tax_name  \\\n",
       "GCA_002077945  k__Bacteria|p__Bacteroidetes|c__Chitinophagia|o__Chitinophagales|f__Chitinophagaceae|g__Niastella|s__Niastella_vici|t__GCA_002077945   \n",
       "\n",
       "                             s__                                file_name  \n",
       "GCA_002077945  s__Niastella_vici  GCA_002077945.1_ASM207794v1_genomic.fna  \n",
       "\n",
       "[1 rows x 26 columns]"
      ]
     },
     "execution_count": 216,
     "metadata": {},
     "output_type": "execute_result"
    }
   ],
   "source": [
    "all_managed.loc[all_managed['file_name'].str.contains('GCA_002077945')]"
   ]
  },
  {
   "cell_type": "code",
   "execution_count": 329,
   "metadata": {},
   "outputs": [],
   "source": [
    "fasta_files =[f.split('/')[-1] for f in glob.glob('/data11/bio/databases/metaphlan2/mp_genomes_fna/*')]"
   ]
  },
  {
   "cell_type": "code",
   "execution_count": 330,
   "metadata": {},
   "outputs": [
    {
     "data": {
      "text/plain": [
       "[]"
      ]
     },
     "execution_count": 330,
     "metadata": {},
     "output_type": "execute_result"
    }
   ],
   "source": [
    "not_downloaded = [f.split('.')[0] for f in list(set(all_managed['file_name']) - set(fasta_files))]\n",
    "not_downloaded"
   ]
  },
  {
   "cell_type": "code",
   "execution_count": 300,
   "metadata": {},
   "outputs": [],
   "source": [
    "not_downloaded = all_managed.loc[not_downloaded]"
   ]
  },
  {
   "cell_type": "code",
   "execution_count": 307,
   "metadata": {},
   "outputs": [
    {
     "data": {
      "text/plain": [
       "(10360, 26)"
      ]
     },
     "execution_count": 307,
     "metadata": {},
     "output_type": "execute_result"
    }
   ],
   "source": [
    "all_managed.shape"
   ]
  },
  {
   "cell_type": "code",
   "execution_count": 301,
   "metadata": {},
   "outputs": [
    {
     "name": "stdout",
     "output_type": "stream",
     "text": [
      "/data11/bio/databases/metaphlan2/mp_genomes/GCA_001434655/GCA_001434655.1_ASM143465v1_genomic.fna.gz True\n",
      "{'acc': 'GCA_001434655', 'status': 'ok'}\n",
      "/data11/bio/databases/metaphlan2/mp_genomes/GCA_002953935/GCA_002953935.1_ASM295393v1_genomic.fna.gz True\n",
      "{'acc': 'GCA_002953935', 'status': 'ok'}\n",
      "/data11/bio/databases/metaphlan2/mp_genomes/GCA_900114345/GCA_900114345.1_IMG-taxon_2609459760_annotated_assembly_genomic.fna.gz True\n",
      "{'acc': 'GCA_900114345', 'status': 'ok'}\n",
      "/data11/bio/databases/metaphlan2/mp_genomes/GCA_000317655/GCA_000317655.1_ASM31765v1_genomic.fna.gz True\n",
      "{'acc': 'GCA_000317655', 'status': 'ok'}\n",
      "/data11/bio/databases/metaphlan2/mp_genomes/GCA_000239775/GCA_000239775.2_ASM23977v2_genomic.fna.gz True\n",
      "{'acc': 'GCA_000239775', 'status': 'ok'}\n",
      "/data11/bio/databases/metaphlan2/mp_genomes/GCA_001189345/GCA_001189345.1_ASM118934v1_genomic.fna.gz True\n",
      "{'acc': 'GCA_001189345', 'status': 'ok'}\n",
      "/data11/bio/databases/metaphlan2/mp_genomes/GCA_900099815/GCA_900099815.1_IMG-taxon_2622736510_annotated_assembly_genomic.fna.gz True\n",
      "{'acc': 'GCA_900099815', 'status': 'ok'}\n"
     ]
    }
   ],
   "source": [
    "ff = []\n",
    "for d in not_downloaded.to_dict(orient='records'):\n",
    "    print(fetch_url(d))\n",
    "    acc = d['ACC']\n",
    "    ftp_path = d['ftp_path'] + '/' + d['ftp_path'].split('/')[-1] + '_genomic.fna.gz'\n",
    "    \n",
    "    save_dir = os.path.join(dwn_dir, acc)\n",
    "    \n",
    "    file_loc = os.path.join(save_dir,  d['ftp_path'].split('/')[-1] + '_genomic.fna')\n",
    "    ff.append(file_loc)"
   ]
  },
  {
   "cell_type": "code",
   "execution_count": 302,
   "metadata": {},
   "outputs": [
    {
     "data": {
      "text/plain": [
       "['/data11/bio/databases/metaphlan2/mp_genomes/GCA_001434655/GCA_001434655.1_ASM143465v1_genomic.fna',\n",
       " '/data11/bio/databases/metaphlan2/mp_genomes/GCA_002953935/GCA_002953935.1_ASM295393v1_genomic.fna',\n",
       " '/data11/bio/databases/metaphlan2/mp_genomes/GCA_900114345/GCA_900114345.1_IMG-taxon_2609459760_annotated_assembly_genomic.fna',\n",
       " '/data11/bio/databases/metaphlan2/mp_genomes/GCA_000317655/GCA_000317655.1_ASM31765v1_genomic.fna',\n",
       " '/data11/bio/databases/metaphlan2/mp_genomes/GCA_000239775/GCA_000239775.2_ASM23977v2_genomic.fna',\n",
       " '/data11/bio/databases/metaphlan2/mp_genomes/GCA_001189345/GCA_001189345.1_ASM118934v1_genomic.fna',\n",
       " '/data11/bio/databases/metaphlan2/mp_genomes/GCA_900099815/GCA_900099815.1_IMG-taxon_2622736510_annotated_assembly_genomic.fna']"
      ]
     },
     "execution_count": 302,
     "metadata": {},
     "output_type": "execute_result"
    }
   ],
   "source": [
    "ff"
   ]
  },
  {
   "cell_type": "code",
   "execution_count": 309,
   "metadata": {},
   "outputs": [],
   "source": [
    "for f in list(all_managed['file_name']):\n",
    "    shutil.copy(os.path.join('/data11/bio/databases/metaphlan2/mp_genomes_fna',f), '/data11/bio/databases/metaphlan2/mp_genomes_subset_fna')"
   ]
  },
  {
   "cell_type": "code",
   "execution_count": null,
   "metadata": {},
   "outputs": [],
   "source": [
    "phylophlan -i /data11/bio/databases/metaphlan2/mp_genomes_fna \\\n",
    "    -d phylophlan \\\n",
    "    -f ~/ProjectsGit/chokophlan_tree/02_tol.cfg \\\n",
    "    --diversity high \\\n",
    "    --fast \\\n",
    "    -o /data11/bio/databases/metaphlan2/mp_genomes_phylophlan3/output_tree \\\n",
    "    --nproc 100 \\\n",
    "    --verbose 2>&1 | tee /data11/bio/databases/metaphlan2/mp_genomes_phylophlan3/phylophlan.log"
   ]
  }
 ],
 "metadata": {
  "kernelspec": {
   "display_name": "Python 3",
   "language": "python",
   "name": "python3"
  },
  "language_info": {
   "codemirror_mode": {
    "name": "ipython",
    "version": 3
   },
   "file_extension": ".py",
   "mimetype": "text/x-python",
   "name": "python",
   "nbconvert_exporter": "python",
   "pygments_lexer": "ipython3",
   "version": "3.6.10"
  }
 },
 "nbformat": 4,
 "nbformat_minor": 4
}
